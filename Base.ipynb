{
 "cells": [
  {
   "cell_type": "markdown",
   "metadata": {},
   "source": [
    "# Project - PHYS 512"
   ]
  },
  {
   "cell_type": "code",
   "execution_count": 44,
   "metadata": {},
   "outputs": [
    {
     "name": "stdout",
     "output_type": "stream",
     "text": [
      "0\n",
      "100000.0 -0.000999000999000999 0.0 0.0 0.0 -0.316069770620507 0.0\n",
      "100.0 0.999000999000999 0.0 0.0 0.0 316.069770620507 0.0\n",
      "0.0 0.8999999999999999 0.0 0.0 0.0 349.77770718621343 0.0\n",
      "1\n",
      "100000.0 0.0006091674418016202 -0.0007917815505900593 0.0 0.25050847128954346 0.19273195301318344 0.0\n",
      "100.0 -0.6091674418011943 0.7917815505897964 0.0 -250.5084712895429 -192.73195301318384 0.0\n",
      "0.0 0.6763780086300213 0.2103935366915272 0.0 -5.388817999314384 382.1117889516812 0.0\n",
      "2\n",
      "100000.0 0.0006091674418016202 -0.0007917815505900593 0.0 0.25050847128954346 0.19273195301318344 0.0\n",
      "100.0 -0.6091674418011943 0.7917815505897964 0.0 -250.5084712895429 -192.73195301318384 0.0\n",
      "0.0 0.6763780086300213 0.2103935366915272 0.0 -5.388817999314384 382.1117889516812 0.0\n",
      "3\n",
      "100000.0 0.0006091674418016202 -0.0007917815505900593 0.0 0.25050847128954346 0.19273195301318344 0.0\n",
      "100.0 -0.6091674418011943 0.7917815505897964 0.0 -250.5084712895429 -192.73195301318384 0.0\n",
      "0.0 0.6763780086300213 0.2103935366915272 0.0 -5.388817999314384 382.1117889516812 0.0\n",
      "4\n",
      "100000.0 0.0006091674418016202 -0.0007917815505900593 0.0 0.25050847128954346 0.19273195301318344 0.0\n",
      "100.0 -0.6091674418011943 0.7917815505897964 0.0 -250.5084712895429 -192.73195301318384 0.0\n",
      "0.0 0.6763780086300213 0.2103935366915272 0.0 -5.388817999314384 382.1117889516812 0.0\n"
     ]
    }
   ],
   "source": [
    "import rebound\n",
    "\n",
    "# Create a rebound simulation\n",
    "sim = rebound.Simulation()\n",
    "\n",
    "# Add a particle at the origin with mass 1\n",
    "sim.add(m=1e5)  \n",
    "\n",
    "# Add a particle with mass 1e-3 on a Keplerian \n",
    "# orbit around the center of mass (including all \n",
    "# particles added so far) with semi-major axis 1\n",
    "sim.add(m=1e2, a=1.)\n",
    "\n",
    "# Add a test particle (mass=0) on a Keplerian orbit \n",
    "# around the center of mass (both particles added above)\n",
    "# with a semi-major axis of 2 and eccentricity of 0.1.\n",
    "# This corresponds to Jacobi coordinates.\n",
    "sim.add(m=0, a=1., e=0.1)\n",
    "\n",
    "# Move all particles to the-center-of-momentum frame.\n",
    "sim.move_to_com()\n",
    "\n",
    "# Print the resulting cartesian coordinates.\n",
    "t=0\n",
    "while t<5:\n",
    "    print(t)\n",
    "    for p in sim.particles:\n",
    "        print(p.m, p.x, p.y, p.z, p.vx, p.vy, p.vz)\n",
    "    sim.integrate(1)\n",
    "    t+=1\n",
    "\n",
    "\n",
    "# Integrate for 100 time units\n",
    "\n"
   ]
  },
  {
   "cell_type": "code",
   "execution_count": 39,
   "metadata": {},
   "outputs": [
    {
     "name": "stdout",
     "output_type": "stream",
     "text": [
      "100000.0 0.0009615716941796551 0.000270892733350836 0.0 -0.08570662509652513 0.3042276685554157 0.0\n",
      "100.0 -0.961571694167204 -0.2708927333491693 0.0 85.7066250965264 -304.2276685554146 0.0\n",
      "0.0 1.8507929498752034 -1.5728191135337832 0.0 131.49088952423216 97.67101913329356 0.0\n"
     ]
    }
   ],
   "source": [
    "for p in sim.particles:\n",
    "    print(p.m, p.x, p.y, p.z, p.vx, p.vy, p.vz)"
   ]
  },
  {
   "cell_type": "code",
   "execution_count": 45,
   "metadata": {},
   "outputs": [
    {
     "name": "stdout",
     "output_type": "stream",
     "text": [
      "<rebound.Orbit instance, a=1.0 e=1.2908244804870783e-15 inc=0.0 Omega=0.0 omega=0.42858755646442237 f=1.7979874756844758>\n",
      "<rebound.Orbit instance, a=0.7328384548697782 e=0.2853326542771664 inc=0.0 Omega=0.0 omega=4.839057536684504 f=1.7456993976418236>\n"
     ]
    }
   ],
   "source": [
    "for o in sim.calculate_orbits(): \n",
    "    print(o)"
   ]
  }
 ],
 "metadata": {
  "kernelspec": {
   "display_name": "Python 3.8.17",
   "language": "python",
   "name": "python3"
  },
  "language_info": {
   "codemirror_mode": {
    "name": "ipython",
    "version": 3
   },
   "file_extension": ".py",
   "mimetype": "text/x-python",
   "name": "python",
   "nbconvert_exporter": "python",
   "pygments_lexer": "ipython3",
   "version": "3.8.17"
  },
  "orig_nbformat": 4,
  "vscode": {
   "interpreter": {
    "hash": "d743db2db49d55f54c8cd61b236fbb767074939ce1277fd0c08dd0efb6e65afa"
   }
  }
 },
 "nbformat": 4,
 "nbformat_minor": 2
}
