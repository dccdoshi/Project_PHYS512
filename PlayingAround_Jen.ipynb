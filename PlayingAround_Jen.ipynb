{
 "cells": [
  {
   "cell_type": "markdown",
   "id": "7afd6197",
   "metadata": {},
   "source": [
    "# Playing Around with Rebound: The Solar System\n",
    "\n",
    "(Partially copied from Dhvani)"
   ]
  },
  {
   "cell_type": "code",
   "execution_count": 176,
   "id": "e68f3f86",
   "metadata": {},
   "outputs": [],
   "source": [
    "import rebound\n",
    "import numpy as np\n",
    "import matplotlib.pylab as plt\n",
    "\n",
    "from matplotlib import animation\n",
    "from matplotlib.animation import PillowWriter\n",
    "from matplotlib import cm"
   ]
  },
  {
   "cell_type": "markdown",
   "id": "23912641",
   "metadata": {},
   "source": [
    "# Initialize the Simulation and Set Units"
   ]
  },
  {
   "cell_type": "markdown",
   "id": "f4904230",
   "metadata": {},
   "source": [
    "## Initialize the \"bodies\""
   ]
  },
  {
   "cell_type": "code",
   "execution_count": 177,
   "id": "09e30bfa",
   "metadata": {},
   "outputs": [
    {
     "name": "stdout",
     "output_type": "stream",
     "text": [
      "There are 9 bodies in the system\n"
     ]
    }
   ],
   "source": [
    "# Create a simulation\n",
    "sim = rebound.Simulation()\n",
    "\n",
    "# Set up units\n",
    "sim.units = ('AU', 's', 'Msun')\n",
    "\n",
    "# ----------------------------------------------------------------------------\n",
    "\n",
    "# Add the Sun\n",
    "sim.add(m=1.0)\n",
    "\n",
    "# Add the major planets with their approximate masses, semi-major axes, and eccentricities\n",
    "# Masses are in solar masses, semi-major axes are in AU, and eccentricities are dimensionless\n",
    "\n",
    "# Mercury\n",
    "sim.add(m=1.65e-7, a=0.39, e=0.205,hash=\"mercury\")\n",
    "\n",
    "# Venus\n",
    "sim.add(m=2.45e-6, a=0.72, e=0.007,hash=\"venus\")\n",
    "\n",
    "# Earth\n",
    "sim.add(m=3.00e-6, a=1.00, e=0.017,hash=\"earth\")\n",
    "\n",
    "# Mars\n",
    "sim.add(m=3.22e-7, a=1.52, e=0.093,hash=\"mars\")\n",
    "\n",
    "# Jupiter\n",
    "sim.add(m=9.54e-4, a=5.20, e=0.049,hash=\"jupiter\")\n",
    "\n",
    "# Saturn\n",
    "sim.add(m=2.86e-4, a=9.58, e=0.056,hash=\"saturn\")\n",
    "\n",
    "# Uranus\n",
    "sim.add(m=4.37e-5, a=19.22, e=0.046,hash=\"uranus\")\n",
    "\n",
    "# Neptune\n",
    "sim.add(m=5.15e-5, a=30.05, e=0.010,hash=\"neptune\")\n",
    "\n",
    "print('There are {} bodies in the system'.format(sim.N))\n",
    "\n",
    "colors = ['yellow', 'orange', 'pink', 'green', 'red', 'gold', 'brown' , 'blue', 'white']\n",
    "names = ['Sun', 'Mercury', 'Venus', 'Earth', 'Mars', 'Jupiter', 'Saturn' , 'Uranus', 'Neptune']"
   ]
  },
  {
   "cell_type": "code",
   "execution_count": 178,
   "id": "8f99c21b",
   "metadata": {},
   "outputs": [],
   "source": [
    "# sim.softening = 1e4"
   ]
  },
  {
   "cell_type": "markdown",
   "id": "0d51a0df",
   "metadata": {},
   "source": [
    "# Evolve the System"
   ]
  },
  {
   "cell_type": "code",
   "execution_count": 179,
   "id": "bdfefd57",
   "metadata": {},
   "outputs": [],
   "source": [
    "# Set the number of timesteps ( 10 year in seconds)\n",
    "year = 60*60*24*360\n",
    "\n",
    "t_total = 1*year\n",
    "dt = 1e2\n",
    "num_timesteps = int(t_total/dt)\n",
    "sim.dt=dt\n",
    "\n",
    "# Create arrays to store positions\n",
    "positions_x = np.zeros((num_timesteps, sim.N))\n",
    "positions_y = np.zeros((num_timesteps, sim.N))\n",
    "\n",
    "# Integrate the simulation for each timestep\n",
    "for i in range(num_timesteps):\n",
    "    \n",
    "    # Record positions\n",
    "    positions_x[i, :] = [p.x for p in sim.particles]\n",
    "    positions_y[i, :] = [p.y for p in sim.particles]\n",
    "\n",
    "    # Integrate for one timestep\n",
    "    sim.integrate(sim.t + sim.dt)"
   ]
  },
  {
   "cell_type": "code",
   "execution_count": 180,
   "id": "dd02e697",
   "metadata": {},
   "outputs": [
    {
     "data": {
      "text/plain": [
       "311040"
      ]
     },
     "execution_count": 180,
     "metadata": {},
     "output_type": "execute_result"
    }
   ],
   "source": [
    "num_timesteps"
   ]
  },
  {
   "cell_type": "code",
   "execution_count": 181,
   "id": "850b62de",
   "metadata": {},
   "outputs": [
    {
     "data": {
      "image/png": "[encoded data removed]",
      "text/plain": [
       "<Figure size 1000x1000 with 1 Axes>"
      ]
     },
     "metadata": {},
     "output_type": "display_data"
    }
   ],
   "source": [
    "plt.figure(figsize=(10,10))\n",
    "\n",
    "plotOrbitsandBodies(positions_x, positions_y, ti=2000)"
   ]
  },
  {
   "cell_type": "code",
   "execution_count": 182,
   "id": "85e1cea5",
   "metadata": {},
   "outputs": [],
   "source": [
    "def plotBodies(positions_x, positions_y, ti):\n",
    "#     plt.style.use(\"dark_background\")\n",
    "    \n",
    "    plt.xlim(-5,5)\n",
    "    plt.ylim(-5,5)\n",
    "    \n",
    "    ps = []\n",
    "    for i in range(9):\n",
    "        p = plt.scatter(positions_x[:,i][ti],positions_y[:,i][ti], s=25, color=colors[i], zorder=5)\n",
    "        ps.append(p)\n",
    "        \n",
    "        \n",
    "    return ps\n",
    "\n",
    "def plotOrbitsandBodies(positions_x, positions_y, ti):\n",
    "    \n",
    "    # Plot orbits up to ti and positions at ti\n",
    "    ps = plotBodies(positions_x, positions_y, ti)\n",
    "\n",
    "    for i in range(9):\n",
    "        # Makes it sooo much faster if you plot every 100 values \n",
    "        plt.plot(positions_x[:,i][0:ti:100],positions_y[:,i][0:ti:100],label=names[i], linewidth=1, color=colors[i], alpha=0.5)\n",
    "\n",
    "    plt.legend(loc='upper left')\n",
    "\n",
    "    plt.grid(alpha=0.2, color='darkgrey')\n",
    "\n",
    "    \n",
    "    \n",
    "\n",
    "# --------------------------------------------------------\n",
    "# Make some functions for the animation \n",
    "def init(): #init for initial frame of the animation\n",
    "\n",
    "    plotBodies(positions_x, positions_y, ti=0)\n",
    "    return fig,\n",
    "\n",
    "def animate(i): # changes frame to frame in the animation\n",
    "    #animate is a function of i which  is the frame number \n",
    "\n",
    "    ax.clear()\n",
    "    plt.style.use(\"dark_background\")\n",
    "    plt.title(i)\n",
    "    plotOrbitsandBodies(positions_x, positions_y, ti=i*500)\n",
    "\n",
    "    return fig,"
   ]
  },
  {
   "cell_type": "code",
   "execution_count": 183,
   "id": "fcf09bf8",
   "metadata": {},
   "outputs": [],
   "source": [
    "# -------------------------------------------------------- Animate\n",
    "# Commented out since this takes hours to run\n",
    "# Please see my git repository for the gif\n",
    "\n",
    "fig = plt.figure(dpi=125)\n",
    "ax = fig.add_subplot(111)\n",
    "plt.style.use(\"dark_background\")\n",
    "ani = animation.FuncAnimation(fig, animate, init_func=init,frames=int(num_timesteps / 500))\n",
    "ani.save('test3.gif',writer='pillow',fps=500)\n",
    "plt.close()"
   ]
  },
  {
   "cell_type": "code",
   "execution_count": null,
   "id": "157435ef",
   "metadata": {},
   "outputs": [],
   "source": []
  }
 ],
 "metadata": {
  "kernelspec": {
   "display_name": "Python 3 (ipykernel)",
   "language": "python",
   "name": "python3"
  },
  "language_info": {
   "codemirror_mode": {
    "name": "ipython",
    "version": 3
   },
   "file_extension": ".py",
   "mimetype": "text/x-python",
   "name": "python",
   "nbconvert_exporter": "python",
   "pygments_lexer": "ipython3",
   "version": "3.9.16"
  }
 },
 "nbformat": 4,
 "nbformat_minor": 5
}
